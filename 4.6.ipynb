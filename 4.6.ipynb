{
 "cells": [
  {
   "cell_type": "markdown",
   "metadata": {},
   "source": [
    "# Because tides raised by satellites in their primaries generally result in the expansion of orbits initially outside the synchronous distance, the presence of a massive satellite in a close orbit sets an upper limit to either the age of the satellite or the planet's tidal dissipation function, Q. Use the orbital distances and masses of Deimos, Io, Mimas, Ariel, and Proteus to place lower limits on Q for Mars, Jupiter, Saturn, Uranus, and Neptune. Why is the larger satellite Triton not suitable for this calculation for Neptune?"
   ]
  },
  {
   "cell_type": "markdown",
   "metadata": {},
   "source": [
    "For Deimos: a = 23463.2 km and m = 1.8x10^15 kg $$$$\n",
    "For Io: a = 421.6 km and m = 893.3x10^20 kg $$$$\n",
    "For Mimas: a = 185520 km and m = 0.385x10^20 kg $$$$\n",
    "For Ariel: a = 191200 km and m = 13.53x10^20 kg $$$$\n",
    "For Proteus: a = 117647 km and m = .44*10^20 kg"
   ]
  },
  {
   "cell_type": "markdown",
   "metadata": {},
   "source": [
    "In this case I think it would be appropriate to use the following equation that places a lower limit on Q.\n",
    "$$ Q_{p} \\geq \\frac{39}{2} k_{2} (\\frac{G}{m_{p}})^{\\frac{1}{2}} \\frac{R_{p}^{5}}{a^{\\frac{13}{2}}} m_{s} \\Delta t $$\n",
    "In this case we will take the change in time to be the approximate age of the solar system since we are limiting Q and not the age of the satelitte. We also need to define the love number k as a term used to account for the internal structure of a planet."
   ]
  },
  {
   "cell_type": "markdown",
   "metadata": {},
   "source": [
    "First, the values for k need to be found. This can be done by relating the J2 values using the following equation.\n",
    "$$ J_{2} = \\frac{1}{3} k_{2} q_{r} $$\n",
    "where the values for q are given. Thus we need to know for each of Mars, Jupiter, Saturn, Uranus, and Neptune the J2 values, the qr values, the mass and the radius.\n",
    "$$$$\n",
    "For Mars:\n",
    "$$mass = 0.64185x10^{24} kg$$ $$radius = 3394 km$$ $$q = 4.57x10^{-3}$$ $$J2 = 1960x10^{-6}$$\n",
    "For Jupiter:\n",
    "$$mass = 1898.6x10^24 kg$$ $$radius = 71398 km$$ $$q = 0.089$$ $$J2 = 14736x10^-6$$\n",
    "For Saturn:\n",
    "$$mass = 568.46x10^24 kg$$ $$radius = 60330 km$$ $$q = 0.151$$ $$J2 = 16298x10^-6$$\n",
    "For Uranus:\n",
    "$$mass = 86.832x10^24 kg$$ $$radius = 26200 km$$ $$q = 0.029$$ $$J2 = 3343x10^-6$$\n",
    "For Neptune:\n",
    "$$mass = 102.43x10^24 kg$$ $$radius = 25225 km$$ $$q = 0.026$$ $$J2 = 3411x10^-6$$\n",
    "Now we have enough info to place lower limits on the values for Q."
   ]
  },
  {
   "cell_type": "code",
   "execution_count": 1,
   "metadata": {
    "collapsed": true
   },
   "outputs": [],
   "source": [
    "# constants\n",
    "G = 6.67*10**-11\n",
    "t = 4.5*10**9\n",
    "t = t * (60*60*24*365) #convert years to seconds"
   ]
  },
  {
   "cell_type": "code",
   "execution_count": 2,
   "metadata": {
    "collapsed": false
   },
   "outputs": [
    {
     "name": "stdout",
     "output_type": "stream",
     "text": [
      "The lower limit for Q of Mars is 36.406222647\n"
     ]
    }
   ],
   "source": [
    "# For Deimos/Mars\n",
    "m_mars = .64185 *10**24\n",
    "R_mars = 3394000.0\n",
    "q = 4.57 * 10**-3\n",
    "J2 = 1960 * 10**-6\n",
    "a = 23463200.0\n",
    "m_deimos = 1.8*10**15\n",
    "\n",
    "k = (3 * J2) / q\n",
    "\n",
    "rhs = (39.0/2.0)*k*(G/m_mars)**.5 * (R_mars**5)/(a**(13.0/2.0)) * m_deimos * t\n",
    "print \"The lower limit for Q of Mars is \" + str(rhs)"
   ]
  },
  {
   "cell_type": "code",
   "execution_count": 3,
   "metadata": {
    "collapsed": false
   },
   "outputs": [
    {
     "name": "stdout",
     "output_type": "stream",
     "text": [
      "The lower limit for Q of Jupiter is 1.17107422887e+25\n"
     ]
    }
   ],
   "source": [
    "# For Io/Jupiter\n",
    "m_jupiter = 1898.6*10**24\n",
    "R_jupiter = 71398000.0\n",
    "q = 0.089\n",
    "J2 = 14736 * 10**-6\n",
    "a = 421600.0\n",
    "m_io = 893.3*10**20\n",
    "\n",
    "k = (3 * J2) / q\n",
    "\n",
    "rhs = (39.0/2.0)*k*(G/m_jupiter)**.5 * (R_jupiter**5)/(a**(13.0/2.0)) * m_io * t\n",
    "print \"The lower limit for Q of Jupiter is \" + str(rhs)"
   ]
  },
  {
   "cell_type": "code",
   "execution_count": 6,
   "metadata": {
    "collapsed": false
   },
   "outputs": [
    {
     "name": "stdout",
     "output_type": "stream",
     "text": [
      "The lower limit for Q of Saturn is 17007.2027464\n"
     ]
    }
   ],
   "source": [
    "# For Mimas/Saturn\n",
    "m_saturn = 568.46*10**24\n",
    "R_saturn = 60330000\n",
    "q = 0.151\n",
    "J2 = 16298 * 10**-6\n",
    "a = 185520000\n",
    "m_mimas = .385*10**20\n",
    "\n",
    "k = (3 * J2) / q\n",
    "\n",
    "rhs = (39.0/2.0)*k*(G/m_saturn)**.5 * (R_saturn**5)/(a**(13.0/2.0)) * m_mimas * t\n",
    "print \"The lower limit for Q of Saturn is \" + str(rhs)"
   ]
  },
  {
   "cell_type": "code",
   "execution_count": 7,
   "metadata": {
    "collapsed": false
   },
   "outputs": [
    {
     "name": "stdout",
     "output_type": "stream",
     "text": [
      "The lower limit for Q of Uranus is 20722.7914765\n"
     ]
    }
   ],
   "source": [
    "# For Ariel/Uranus\n",
    "m_uranus = 86.832*10**24\n",
    "R_uranus = 26200000\n",
    "q = 0.029\n",
    "J2 = 3343 * 10**-6\n",
    "a = 191200000\n",
    "m_ariel = 13.52*10**20\n",
    "\n",
    "k = (3 * J2) / q\n",
    "\n",
    "rhs = (39.0/2.0)*k*(G/m_uranus)**.5 * (R_uranus**5)/(a**(13.0/2.0)) * m_ariel * t\n",
    "print \"The lower limit for Q of Uranus is \" + str(rhs)"
   ]
  },
  {
   "cell_type": "code",
   "execution_count": 8,
   "metadata": {
    "collapsed": false
   },
   "outputs": [
    {
     "name": "stdout",
     "output_type": "stream",
     "text": [
      "The lower limit for Q of Netune is 13733.0078549\n"
     ]
    }
   ],
   "source": [
    "# For Proteus/Neptune\n",
    "m_neptune = 102.43*10**24\n",
    "R_neptune = 25225000.0\n",
    "q = 0.026\n",
    "J2 = 3411 * 10**-6\n",
    "a = 117647000.0\n",
    "m_proteus = 4.4*10**19\n",
    "\n",
    "k = (3 * J2) / q\n",
    "\n",
    "rhs = (39.0/2.0)*k*(G/m_neptune)**.5 * (R_neptune**5)/(a**(13.0/2.0)) * m_proteus * t\n",
    "print \"The lower limit for Q of Netune is \" + str(rhs)"
   ]
  },
  {
   "cell_type": "markdown",
   "metadata": {
    "collapsed": true
   },
   "source": [
    "Now we have lower limits for Q on all of the planets.\n",
    "$$ Q_{mars} \\geq 36.406 $$\n",
    "$$ Q_{jupiter} \\geq 1.17e24 $$\n",
    "$$ Q_{saturn} \\geq 17007.20 $$\n",
    "$$ Q_{uranus} \\geq 20722.79 $$\n",
    "$$ Q_{neptune} \\geq 13733.01 $$\n",
    "Notably, the lower limit for Jupiter is very high. However, as the largest of our planets this is not as surprising since it will not be noticably effected by tides from its satelittes."
   ]
  },
  {
   "cell_type": "markdown",
   "metadata": {},
   "source": [
    "Finally, the reason why Triton, despite being Neptune's largest satellite, is not suitable for this type of calculation is due to its retrograde orbit. This adds an additional effect to the orbital evolution of the system. In this case, the tidal forces would cause both the planet spin and satelitte orbit to decay. While this can be measured, we can not use the same methods to place a lower limit on Q using Triton. As an additional note, the premise of this problem was set up with the notion that all these satelittes orbit outside of the synchronous distance. But it is not useful to describe Triton as such since even if it were at the synchronous distance, it's retrograde orbit would prevent it from ever having a synchronous orbit."
   ]
  },
  {
   "cell_type": "code",
   "execution_count": null,
   "metadata": {
    "collapsed": true
   },
   "outputs": [],
   "source": []
  }
 ],
 "metadata": {
  "kernelspec": {
   "display_name": "Python 2",
   "language": "python",
   "name": "python2"
  },
  "language_info": {
   "codemirror_mode": {
    "name": "ipython",
    "version": 2
   },
   "file_extension": ".py",
   "mimetype": "text/x-python",
   "name": "python",
   "nbconvert_exporter": "python",
   "pygments_lexer": "ipython2",
   "version": "2.7.8"
  }
 },
 "nbformat": 4,
 "nbformat_minor": 0
}
